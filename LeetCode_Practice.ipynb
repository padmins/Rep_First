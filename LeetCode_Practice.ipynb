{
  "nbformat": 4,
  "nbformat_minor": 0,
  "metadata": {
    "colab": {
      "name": "LeetCode_Practice.ipynb",
      "provenance": [],
      "authorship_tag": "ABX9TyM+DM5+L2iicouL0Mf1wVBc",
      "include_colab_link": true
    },
    "kernelspec": {
      "name": "python3",
      "display_name": "Python 3"
    },
    "language_info": {
      "name": "python"
    }
  },
  "cells": [
    {
      "cell_type": "markdown",
      "metadata": {
        "id": "view-in-github",
        "colab_type": "text"
      },
      "source": [
        "<a href=\"https://colab.research.google.com/github/padmins/Rep_First/blob/master/LeetCode_Practice.ipynb\" target=\"_parent\"><img src=\"https://colab.research.google.com/assets/colab-badge.svg\" alt=\"Open In Colab\"/></a>"
      ]
    },
    {
      "cell_type": "markdown",
      "metadata": {
        "id": "wm-tvW6N0k-L"
      },
      "source": [
        "# Finding the Number of Swaps required to make a given string Palindrom. Else return -1"
      ]
    },
    {
      "cell_type": "code",
      "metadata": {
        "id": "f8DMYELC0yLH"
      },
      "source": [
        "input_str = 'asflkj'"
      ],
      "execution_count": 14,
      "outputs": []
    },
    {
      "cell_type": "code",
      "metadata": {
        "colab": {
          "base_uri": "https://localhost:8080/",
          "height": 54
        },
        "id": "fOqYdY9r07r_",
        "outputId": "91b2efc8-1b70-4a6a-8bfe-a8503682f7c5"
      },
      "source": [
        "from collections import Counter\n",
        "\n",
        "def min_swaps(input_str):\n",
        "\n",
        "  if not is_valid_palindrome(input_str):\n",
        "      return -1\n",
        "  else:\n",
        "     s = list(input_str)\n",
        "\n",
        "     f = 0\n",
        "     b = len(s) - 1\n",
        "     swaps = 0\n",
        "\n",
        "     while f < b:\n",
        "\n",
        "       # Case1 : when the elements are equal\n",
        "       if s[f] == s[b]:\n",
        "          f += 1\n",
        "          b -= 1\n",
        "\n",
        "       else:\n",
        "         mid = b\n",
        "\n",
        "         while f < mid and s[f] != s[mid] :\n",
        "            mid -= 1\n",
        "         # case 2: If element is not found, then it should be in the middle. Swap f with mid element\n",
        "\n",
        "         if s[f] == s[mid]:\n",
        "             s[mid], s[mid+1] = s[mid+1], s[mid]  \n",
        "             swaps += 1\n",
        "             continue\n",
        "            \n",
        "         for i in range(mid,b):\n",
        "             s[i],s[i+1] = s[i+1], s[i]\n",
        "             swaps += 1\n",
        "\n",
        "         f += 1\n",
        "         b -= 1 \n",
        "  return swaps\n",
        "\n",
        "def is_valid_palindrome(str_valid):\n",
        "\n",
        "    str_dict = Counter(str_valid)\n",
        "\n",
        "    return len([chr for chr, val in str_dict.items() if val%2]) <= 1\n",
        "    \n",
        "'''\n",
        "if __name__ == \"__main__\":\n",
        "  print(min_swaps('aabbc') == 4 )\n",
        "  print(min_swaps(\"asflkj\") == -1)\n",
        "  print(min_swaps(\"aabb\") == 2)\n",
        "  print(min_swaps(\"ntiin\") == 1)'''"
      ],
      "execution_count": 21,
      "outputs": [
        {
          "output_type": "execute_result",
          "data": {
            "application/vnd.google.colaboratory.intrinsic+json": {
              "type": "string"
            },
            "text/plain": [
              "'\\nif __name__ == \"__main__\":\\n  print(min_swaps(\\'aabbc\\') == 4 )\\n  print(min_swaps(\"asflkj\") == -1)\\n  print(min_swaps(\"aabb\") == 2)\\n  print(min_swaps(\"ntiin\") == 1)'"
            ]
          },
          "metadata": {},
          "execution_count": 21
        }
      ]
    },
    {
      "cell_type": "code",
      "metadata": {
        "colab": {
          "base_uri": "https://localhost:8080/"
        },
        "id": "XjBHbog57yKz",
        "outputId": "dca0df37-2cdd-4213-8fc4-ba627d83a789"
      },
      "source": [
        "min_swaps('ntiin')"
      ],
      "execution_count": 25,
      "outputs": [
        {
          "output_type": "execute_result",
          "data": {
            "text/plain": [
              "1"
            ]
          },
          "metadata": {},
          "execution_count": 25
        }
      ]
    },
    {
      "cell_type": "markdown",
      "metadata": {
        "id": "f5IBkrPA-XmJ"
      },
      "source": [
        "# Minimum Steps to make piles equal height"
      ]
    },
    {
      "cell_type": "code",
      "metadata": {
        "id": "c-AAOsIwAZ7X"
      },
      "source": [
        "piles = [5, 5, 2, 1]"
      ],
      "execution_count": 26,
      "outputs": []
    },
    {
      "cell_type": "code",
      "metadata": {
        "id": "-ZtKRer5AdZ6"
      },
      "source": [
        "min_steps= 0\n",
        "count = 1\n",
        "\n",
        "from collections import Counter\n",
        "\n",
        "def min_steps(piles):\n",
        "    piles_count = Counter(piles)\n",
        "    sorted_cnt = sorted(piles_count.keys(), reverse =True)\n",
        "\n",
        "    k, ans =0, 0\n",
        "    print(piles_count)\n",
        "    print(sorted_cnt)\n",
        "    for item in sorted_cnt[:-1]:\n",
        "        k += piles_count[item]\n",
        "        print(k)\n",
        "        ans += k\n",
        "        print(ans)\n",
        "    return ans\n",
        "\n",
        "min_steps([1,2,5,5,5])\n",
        "    "
      ],
      "execution_count": null,
      "outputs": []
    },
    {
      "cell_type": "code",
      "metadata": {
        "id": "Ynu2WSp5JBXl"
      },
      "source": [
        ""
      ],
      "execution_count": null,
      "outputs": []
    }
  ]
}