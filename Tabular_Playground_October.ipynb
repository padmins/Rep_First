{
  "nbformat": 4,
  "nbformat_minor": 0,
  "metadata": {
    "colab": {
      "name": "Tabular_Playground_October.ipynb",
      "provenance": [],
      "authorship_tag": "ABX9TyP/x+RKqviQ9d0qQQ6SX7uN",
      "include_colab_link": true
    },
    "kernelspec": {
      "name": "python3",
      "display_name": "Python 3"
    },
    "language_info": {
      "name": "python"
    },
    "accelerator": "GPU"
  },
  "cells": [
    {
      "cell_type": "markdown",
      "metadata": {
        "id": "view-in-github",
        "colab_type": "text"
      },
      "source": [
        "<a href=\"https://colab.research.google.com/github/padmins/Rep_First/blob/master/Tabular_Playground_October.ipynb\" target=\"_parent\"><img src=\"https://colab.research.google.com/assets/colab-badge.svg\" alt=\"Open In Colab\"/></a>"
      ]
    },
    {
      "cell_type": "code",
      "metadata": {
        "colab": {
          "base_uri": "https://localhost:8080/"
        },
        "id": "TEz-nQBfYqjU",
        "outputId": "7cc8d40b-df14-4382-d28b-1cb05c433139"
      },
      "source": [
        "! pip install kaggle\n",
        "! mkdir ~/.kaggle\n",
        "! cp kaggle.json ~/.kaggle/\n",
        "! chmod 600 ~/.kaggle/kaggle.json"
      ],
      "execution_count": 1,
      "outputs": [
        {
          "output_type": "stream",
          "name": "stdout",
          "text": [
            "Requirement already satisfied: kaggle in /usr/local/lib/python3.7/dist-packages (1.5.12)\n",
            "Requirement already satisfied: tqdm in /usr/local/lib/python3.7/dist-packages (from kaggle) (4.62.3)\n",
            "Requirement already satisfied: python-slugify in /usr/local/lib/python3.7/dist-packages (from kaggle) (5.0.2)\n",
            "Requirement already satisfied: urllib3 in /usr/local/lib/python3.7/dist-packages (from kaggle) (1.24.3)\n",
            "Requirement already satisfied: requests in /usr/local/lib/python3.7/dist-packages (from kaggle) (2.23.0)\n",
            "Requirement already satisfied: certifi in /usr/local/lib/python3.7/dist-packages (from kaggle) (2021.5.30)\n",
            "Requirement already satisfied: python-dateutil in /usr/local/lib/python3.7/dist-packages (from kaggle) (2.8.2)\n",
            "Requirement already satisfied: six>=1.10 in /usr/local/lib/python3.7/dist-packages (from kaggle) (1.15.0)\n",
            "Requirement already satisfied: text-unidecode>=1.3 in /usr/local/lib/python3.7/dist-packages (from python-slugify->kaggle) (1.3)\n",
            "Requirement already satisfied: idna<3,>=2.5 in /usr/local/lib/python3.7/dist-packages (from requests->kaggle) (2.10)\n",
            "Requirement already satisfied: chardet<4,>=3.0.2 in /usr/local/lib/python3.7/dist-packages (from requests->kaggle) (3.0.4)\n"
          ]
        }
      ]
    },
    {
      "cell_type": "markdown",
      "metadata": {
        "id": "pBz4bNDjJ5MX"
      },
      "source": [
        "### Download Kaggle data to colab"
      ]
    },
    {
      "cell_type": "code",
      "metadata": {
        "colab": {
          "base_uri": "https://localhost:8080/"
        },
        "id": "k6_ml5mgbiS8",
        "outputId": "2106228c-c22e-43da-ad06-4ecb9d9c4661"
      },
      "source": [
        "! kaggle competitions download tabular-playground-series-oct-2021"
      ],
      "execution_count": 2,
      "outputs": [
        {
          "output_type": "stream",
          "name": "stdout",
          "text": [
            "Warning: Looks like you're using an outdated API Version, please consider updating (server 1.5.12 / client 1.5.4)\n",
            "Downloading train.csv.zip to /content\n",
            " 98% 860M/877M [00:05<00:00, 162MB/s]\n",
            "100% 877M/877M [00:05<00:00, 169MB/s]\n",
            "Downloading sample_submission.csv.zip to /content\n",
            "  0% 0.00/1.12M [00:00<?, ?B/s]\n",
            "100% 1.12M/1.12M [00:00<00:00, 156MB/s]\n",
            "Downloading test.csv.zip to /content\n",
            " 97% 424M/438M [00:02<00:00, 160MB/s]\n",
            "100% 438M/438M [00:02<00:00, 170MB/s]\n"
          ]
        }
      ]
    },
    {
      "cell_type": "markdown",
      "metadata": {
        "id": "XZJ05q_0KDKm"
      },
      "source": [
        "### Unzip Train , test and sample_submission file"
      ]
    },
    {
      "cell_type": "code",
      "metadata": {
        "colab": {
          "base_uri": "https://localhost:8080/"
        },
        "id": "dDxOAE_UcPfJ",
        "outputId": "a8efa6c7-96f5-4d67-d338-2637e92b6f93"
      },
      "source": [
        "! unzip train.csv.zip\n",
        "! unzip test.csv.zip\n",
        "! unzip sample_submission.csv.zip\n",
        "\n"
      ],
      "execution_count": 3,
      "outputs": [
        {
          "output_type": "stream",
          "name": "stdout",
          "text": [
            "Archive:  train.csv.zip\n",
            "  inflating: train.csv               \n",
            "Archive:  test.csv.zip\n",
            "  inflating: test.csv                \n",
            "Archive:  sample_submission.csv.zip\n",
            "  inflating: sample_submission.csv   \n"
          ]
        }
      ]
    },
    {
      "cell_type": "markdown",
      "metadata": {
        "id": "NXWYe0LDKPrl"
      },
      "source": [
        "Import the necessary libraries\n"
      ]
    },
    {
      "cell_type": "code",
      "metadata": {
        "id": "IPZTJFbxc7vQ"
      },
      "source": [
        "import pandas as pd\n",
        "import numpy as np\n",
        "import matplotlib.pyplot as plt"
      ],
      "execution_count": 4,
      "outputs": []
    },
    {
      "cell_type": "code",
      "metadata": {
        "colab": {
          "base_uri": "https://localhost:8080/",
          "height": 256
        },
        "id": "IZQSnBfteDl7",
        "outputId": "ecd81df4-a0d0-4324-f1b8-c70507000bec"
      },
      "source": [
        "train_df = pd.read_csv('train.csv')\n",
        "train_df.head()"
      ],
      "execution_count": 5,
      "outputs": [
        {
          "output_type": "execute_result",
          "data": {
            "text/html": [
              "<div>\n",
              "<style scoped>\n",
              "    .dataframe tbody tr th:only-of-type {\n",
              "        vertical-align: middle;\n",
              "    }\n",
              "\n",
              "    .dataframe tbody tr th {\n",
              "        vertical-align: top;\n",
              "    }\n",
              "\n",
              "    .dataframe thead th {\n",
              "        text-align: right;\n",
              "    }\n",
              "</style>\n",
              "<table border=\"1\" class=\"dataframe\">\n",
              "  <thead>\n",
              "    <tr style=\"text-align: right;\">\n",
              "      <th></th>\n",
              "      <th>id</th>\n",
              "      <th>f0</th>\n",
              "      <th>f1</th>\n",
              "      <th>f2</th>\n",
              "      <th>f3</th>\n",
              "      <th>f4</th>\n",
              "      <th>f5</th>\n",
              "      <th>f6</th>\n",
              "      <th>f7</th>\n",
              "      <th>f8</th>\n",
              "      <th>f9</th>\n",
              "      <th>f10</th>\n",
              "      <th>f11</th>\n",
              "      <th>f12</th>\n",
              "      <th>f13</th>\n",
              "      <th>f14</th>\n",
              "      <th>f15</th>\n",
              "      <th>f16</th>\n",
              "      <th>f17</th>\n",
              "      <th>f18</th>\n",
              "      <th>f19</th>\n",
              "      <th>f20</th>\n",
              "      <th>f21</th>\n",
              "      <th>f22</th>\n",
              "      <th>f23</th>\n",
              "      <th>f24</th>\n",
              "      <th>f25</th>\n",
              "      <th>f26</th>\n",
              "      <th>f27</th>\n",
              "      <th>f28</th>\n",
              "      <th>f29</th>\n",
              "      <th>f30</th>\n",
              "      <th>f31</th>\n",
              "      <th>f32</th>\n",
              "      <th>f33</th>\n",
              "      <th>f34</th>\n",
              "      <th>f35</th>\n",
              "      <th>f36</th>\n",
              "      <th>f37</th>\n",
              "      <th>f38</th>\n",
              "      <th>...</th>\n",
              "      <th>f246</th>\n",
              "      <th>f247</th>\n",
              "      <th>f248</th>\n",
              "      <th>f249</th>\n",
              "      <th>f250</th>\n",
              "      <th>f251</th>\n",
              "      <th>f252</th>\n",
              "      <th>f253</th>\n",
              "      <th>f254</th>\n",
              "      <th>f255</th>\n",
              "      <th>f256</th>\n",
              "      <th>f257</th>\n",
              "      <th>f258</th>\n",
              "      <th>f259</th>\n",
              "      <th>f260</th>\n",
              "      <th>f261</th>\n",
              "      <th>f262</th>\n",
              "      <th>f263</th>\n",
              "      <th>f264</th>\n",
              "      <th>f265</th>\n",
              "      <th>f266</th>\n",
              "      <th>f267</th>\n",
              "      <th>f268</th>\n",
              "      <th>f269</th>\n",
              "      <th>f270</th>\n",
              "      <th>f271</th>\n",
              "      <th>f272</th>\n",
              "      <th>f273</th>\n",
              "      <th>f274</th>\n",
              "      <th>f275</th>\n",
              "      <th>f276</th>\n",
              "      <th>f277</th>\n",
              "      <th>f278</th>\n",
              "      <th>f279</th>\n",
              "      <th>f280</th>\n",
              "      <th>f281</th>\n",
              "      <th>f282</th>\n",
              "      <th>f283</th>\n",
              "      <th>f284</th>\n",
              "      <th>target</th>\n",
              "    </tr>\n",
              "  </thead>\n",
              "  <tbody>\n",
              "    <tr>\n",
              "      <th>0</th>\n",
              "      <td>0</td>\n",
              "      <td>0.205979</td>\n",
              "      <td>0.410993</td>\n",
              "      <td>0.176775</td>\n",
              "      <td>0.223581</td>\n",
              "      <td>0.423543</td>\n",
              "      <td>0.476140</td>\n",
              "      <td>0.413590</td>\n",
              "      <td>0.612021</td>\n",
              "      <td>0.534873</td>\n",
              "      <td>0.147295</td>\n",
              "      <td>0.026177</td>\n",
              "      <td>0.106613</td>\n",
              "      <td>0.200924</td>\n",
              "      <td>0.713191</td>\n",
              "      <td>0.155750</td>\n",
              "      <td>0.557335</td>\n",
              "      <td>0.341702</td>\n",
              "      <td>0.285720</td>\n",
              "      <td>0.230396</td>\n",
              "      <td>0.203957</td>\n",
              "      <td>0.509588</td>\n",
              "      <td>0.706972</td>\n",
              "      <td>1</td>\n",
              "      <td>0.007793</td>\n",
              "      <td>0.247765</td>\n",
              "      <td>0.263750</td>\n",
              "      <td>0.259555</td>\n",
              "      <td>0.231730</td>\n",
              "      <td>0.138379</td>\n",
              "      <td>0.197824</td>\n",
              "      <td>0.054392</td>\n",
              "      <td>0.194153</td>\n",
              "      <td>0.281500</td>\n",
              "      <td>0.034818</td>\n",
              "      <td>0.025334</td>\n",
              "      <td>0.114432</td>\n",
              "      <td>0.139203</td>\n",
              "      <td>0.246157</td>\n",
              "      <td>0.251371</td>\n",
              "      <td>...</td>\n",
              "      <td>1</td>\n",
              "      <td>0</td>\n",
              "      <td>0</td>\n",
              "      <td>0</td>\n",
              "      <td>0</td>\n",
              "      <td>0</td>\n",
              "      <td>0</td>\n",
              "      <td>1</td>\n",
              "      <td>0</td>\n",
              "      <td>1</td>\n",
              "      <td>1</td>\n",
              "      <td>0</td>\n",
              "      <td>0</td>\n",
              "      <td>0</td>\n",
              "      <td>1</td>\n",
              "      <td>0</td>\n",
              "      <td>0</td>\n",
              "      <td>1</td>\n",
              "      <td>1</td>\n",
              "      <td>0</td>\n",
              "      <td>0</td>\n",
              "      <td>0</td>\n",
              "      <td>1</td>\n",
              "      <td>1</td>\n",
              "      <td>0</td>\n",
              "      <td>1</td>\n",
              "      <td>0</td>\n",
              "      <td>1</td>\n",
              "      <td>1</td>\n",
              "      <td>0</td>\n",
              "      <td>0</td>\n",
              "      <td>1</td>\n",
              "      <td>0</td>\n",
              "      <td>0</td>\n",
              "      <td>0</td>\n",
              "      <td>0</td>\n",
              "      <td>0</td>\n",
              "      <td>0</td>\n",
              "      <td>0</td>\n",
              "      <td>1</td>\n",
              "    </tr>\n",
              "    <tr>\n",
              "      <th>1</th>\n",
              "      <td>1</td>\n",
              "      <td>0.181004</td>\n",
              "      <td>0.473119</td>\n",
              "      <td>0.011734</td>\n",
              "      <td>0.213657</td>\n",
              "      <td>0.619678</td>\n",
              "      <td>0.441593</td>\n",
              "      <td>0.230407</td>\n",
              "      <td>0.686013</td>\n",
              "      <td>0.281971</td>\n",
              "      <td>0.238509</td>\n",
              "      <td>0.493411</td>\n",
              "      <td>0.107277</td>\n",
              "      <td>0.231828</td>\n",
              "      <td>0.457150</td>\n",
              "      <td>0.395200</td>\n",
              "      <td>0.617088</td>\n",
              "      <td>0.459358</td>\n",
              "      <td>0.209225</td>\n",
              "      <td>0.201098</td>\n",
              "      <td>0.199383</td>\n",
              "      <td>0.366578</td>\n",
              "      <td>0.585788</td>\n",
              "      <td>1</td>\n",
              "      <td>0.285311</td>\n",
              "      <td>0.400367</td>\n",
              "      <td>0.162493</td>\n",
              "      <td>0.249365</td>\n",
              "      <td>0.141160</td>\n",
              "      <td>0.133688</td>\n",
              "      <td>0.247906</td>\n",
              "      <td>0.139251</td>\n",
              "      <td>0.216444</td>\n",
              "      <td>0.109674</td>\n",
              "      <td>0.033018</td>\n",
              "      <td>0.017458</td>\n",
              "      <td>0.189336</td>\n",
              "      <td>0.168785</td>\n",
              "      <td>0.184251</td>\n",
              "      <td>0.202753</td>\n",
              "      <td>...</td>\n",
              "      <td>1</td>\n",
              "      <td>0</td>\n",
              "      <td>0</td>\n",
              "      <td>1</td>\n",
              "      <td>0</td>\n",
              "      <td>1</td>\n",
              "      <td>0</td>\n",
              "      <td>1</td>\n",
              "      <td>1</td>\n",
              "      <td>0</td>\n",
              "      <td>0</td>\n",
              "      <td>0</td>\n",
              "      <td>1</td>\n",
              "      <td>0</td>\n",
              "      <td>0</td>\n",
              "      <td>0</td>\n",
              "      <td>0</td>\n",
              "      <td>1</td>\n",
              "      <td>1</td>\n",
              "      <td>0</td>\n",
              "      <td>1</td>\n",
              "      <td>1</td>\n",
              "      <td>0</td>\n",
              "      <td>0</td>\n",
              "      <td>0</td>\n",
              "      <td>1</td>\n",
              "      <td>0</td>\n",
              "      <td>0</td>\n",
              "      <td>1</td>\n",
              "      <td>1</td>\n",
              "      <td>0</td>\n",
              "      <td>1</td>\n",
              "      <td>0</td>\n",
              "      <td>0</td>\n",
              "      <td>0</td>\n",
              "      <td>0</td>\n",
              "      <td>0</td>\n",
              "      <td>0</td>\n",
              "      <td>0</td>\n",
              "      <td>1</td>\n",
              "    </tr>\n",
              "    <tr>\n",
              "      <th>2</th>\n",
              "      <td>2</td>\n",
              "      <td>0.182583</td>\n",
              "      <td>0.307431</td>\n",
              "      <td>0.325950</td>\n",
              "      <td>0.207116</td>\n",
              "      <td>0.605699</td>\n",
              "      <td>0.309695</td>\n",
              "      <td>0.493337</td>\n",
              "      <td>0.751107</td>\n",
              "      <td>0.536272</td>\n",
              "      <td>0.286813</td>\n",
              "      <td>0.139532</td>\n",
              "      <td>0.107222</td>\n",
              "      <td>0.247791</td>\n",
              "      <td>0.631949</td>\n",
              "      <td>0.347463</td>\n",
              "      <td>0.642173</td>\n",
              "      <td>0.257763</td>\n",
              "      <td>0.162548</td>\n",
              "      <td>0.327377</td>\n",
              "      <td>0.193583</td>\n",
              "      <td>0.495440</td>\n",
              "      <td>0.636742</td>\n",
              "      <td>0</td>\n",
              "      <td>0.007133</td>\n",
              "      <td>0.309747</td>\n",
              "      <td>0.221081</td>\n",
              "      <td>0.284810</td>\n",
              "      <td>0.230828</td>\n",
              "      <td>0.138271</td>\n",
              "      <td>0.199742</td>\n",
              "      <td>0.060408</td>\n",
              "      <td>0.146746</td>\n",
              "      <td>0.208131</td>\n",
              "      <td>0.035977</td>\n",
              "      <td>0.022631</td>\n",
              "      <td>0.113542</td>\n",
              "      <td>0.274871</td>\n",
              "      <td>0.182770</td>\n",
              "      <td>0.151502</td>\n",
              "      <td>...</td>\n",
              "      <td>1</td>\n",
              "      <td>1</td>\n",
              "      <td>0</td>\n",
              "      <td>0</td>\n",
              "      <td>1</td>\n",
              "      <td>0</td>\n",
              "      <td>0</td>\n",
              "      <td>0</td>\n",
              "      <td>0</td>\n",
              "      <td>0</td>\n",
              "      <td>0</td>\n",
              "      <td>0</td>\n",
              "      <td>1</td>\n",
              "      <td>1</td>\n",
              "      <td>0</td>\n",
              "      <td>1</td>\n",
              "      <td>0</td>\n",
              "      <td>0</td>\n",
              "      <td>0</td>\n",
              "      <td>0</td>\n",
              "      <td>0</td>\n",
              "      <td>0</td>\n",
              "      <td>0</td>\n",
              "      <td>0</td>\n",
              "      <td>1</td>\n",
              "      <td>1</td>\n",
              "      <td>0</td>\n",
              "      <td>0</td>\n",
              "      <td>1</td>\n",
              "      <td>0</td>\n",
              "      <td>0</td>\n",
              "      <td>0</td>\n",
              "      <td>0</td>\n",
              "      <td>1</td>\n",
              "      <td>1</td>\n",
              "      <td>0</td>\n",
              "      <td>0</td>\n",
              "      <td>0</td>\n",
              "      <td>0</td>\n",
              "      <td>1</td>\n",
              "    </tr>\n",
              "    <tr>\n",
              "      <th>3</th>\n",
              "      <td>3</td>\n",
              "      <td>0.180240</td>\n",
              "      <td>0.494592</td>\n",
              "      <td>0.008367</td>\n",
              "      <td>0.223580</td>\n",
              "      <td>0.760618</td>\n",
              "      <td>0.439211</td>\n",
              "      <td>0.432055</td>\n",
              "      <td>0.776147</td>\n",
              "      <td>0.483958</td>\n",
              "      <td>0.260886</td>\n",
              "      <td>0.147122</td>\n",
              "      <td>0.105433</td>\n",
              "      <td>0.287755</td>\n",
              "      <td>0.455777</td>\n",
              "      <td>0.247971</td>\n",
              "      <td>0.616628</td>\n",
              "      <td>0.335907</td>\n",
              "      <td>0.337025</td>\n",
              "      <td>0.239127</td>\n",
              "      <td>0.176163</td>\n",
              "      <td>0.538269</td>\n",
              "      <td>0.706468</td>\n",
              "      <td>1</td>\n",
              "      <td>0.008829</td>\n",
              "      <td>0.353799</td>\n",
              "      <td>0.219977</td>\n",
              "      <td>0.266858</td>\n",
              "      <td>0.145617</td>\n",
              "      <td>0.138590</td>\n",
              "      <td>0.234925</td>\n",
              "      <td>0.059817</td>\n",
              "      <td>0.140886</td>\n",
              "      <td>0.205023</td>\n",
              "      <td>0.319312</td>\n",
              "      <td>0.009972</td>\n",
              "      <td>0.112291</td>\n",
              "      <td>0.288915</td>\n",
              "      <td>0.332632</td>\n",
              "      <td>0.140831</td>\n",
              "      <td>...</td>\n",
              "      <td>1</td>\n",
              "      <td>1</td>\n",
              "      <td>0</td>\n",
              "      <td>1</td>\n",
              "      <td>1</td>\n",
              "      <td>0</td>\n",
              "      <td>1</td>\n",
              "      <td>1</td>\n",
              "      <td>0</td>\n",
              "      <td>1</td>\n",
              "      <td>0</td>\n",
              "      <td>0</td>\n",
              "      <td>0</td>\n",
              "      <td>0</td>\n",
              "      <td>0</td>\n",
              "      <td>0</td>\n",
              "      <td>0</td>\n",
              "      <td>0</td>\n",
              "      <td>1</td>\n",
              "      <td>0</td>\n",
              "      <td>1</td>\n",
              "      <td>1</td>\n",
              "      <td>0</td>\n",
              "      <td>0</td>\n",
              "      <td>1</td>\n",
              "      <td>0</td>\n",
              "      <td>0</td>\n",
              "      <td>0</td>\n",
              "      <td>0</td>\n",
              "      <td>1</td>\n",
              "      <td>0</td>\n",
              "      <td>0</td>\n",
              "      <td>0</td>\n",
              "      <td>0</td>\n",
              "      <td>1</td>\n",
              "      <td>0</td>\n",
              "      <td>0</td>\n",
              "      <td>0</td>\n",
              "      <td>0</td>\n",
              "      <td>1</td>\n",
              "    </tr>\n",
              "    <tr>\n",
              "      <th>4</th>\n",
              "      <td>4</td>\n",
              "      <td>0.177172</td>\n",
              "      <td>0.495513</td>\n",
              "      <td>0.014263</td>\n",
              "      <td>0.548819</td>\n",
              "      <td>0.625396</td>\n",
              "      <td>0.562493</td>\n",
              "      <td>0.117158</td>\n",
              "      <td>0.561255</td>\n",
              "      <td>0.077115</td>\n",
              "      <td>0.158321</td>\n",
              "      <td>0.260239</td>\n",
              "      <td>0.102561</td>\n",
              "      <td>0.265285</td>\n",
              "      <td>0.503776</td>\n",
              "      <td>0.269776</td>\n",
              "      <td>0.545945</td>\n",
              "      <td>0.319548</td>\n",
              "      <td>0.278538</td>\n",
              "      <td>0.214922</td>\n",
              "      <td>0.200239</td>\n",
              "      <td>0.534551</td>\n",
              "      <td>0.728652</td>\n",
              "      <td>0</td>\n",
              "      <td>0.004840</td>\n",
              "      <td>0.323546</td>\n",
              "      <td>0.166292</td>\n",
              "      <td>0.285516</td>\n",
              "      <td>0.208651</td>\n",
              "      <td>0.200394</td>\n",
              "      <td>0.198155</td>\n",
              "      <td>0.414729</td>\n",
              "      <td>0.251997</td>\n",
              "      <td>0.193405</td>\n",
              "      <td>0.034490</td>\n",
              "      <td>0.016465</td>\n",
              "      <td>0.197312</td>\n",
              "      <td>0.207429</td>\n",
              "      <td>0.255857</td>\n",
              "      <td>0.139875</td>\n",
              "      <td>...</td>\n",
              "      <td>0</td>\n",
              "      <td>0</td>\n",
              "      <td>0</td>\n",
              "      <td>1</td>\n",
              "      <td>1</td>\n",
              "      <td>1</td>\n",
              "      <td>0</td>\n",
              "      <td>1</td>\n",
              "      <td>0</td>\n",
              "      <td>1</td>\n",
              "      <td>0</td>\n",
              "      <td>0</td>\n",
              "      <td>1</td>\n",
              "      <td>1</td>\n",
              "      <td>0</td>\n",
              "      <td>1</td>\n",
              "      <td>0</td>\n",
              "      <td>0</td>\n",
              "      <td>0</td>\n",
              "      <td>1</td>\n",
              "      <td>0</td>\n",
              "      <td>0</td>\n",
              "      <td>0</td>\n",
              "      <td>0</td>\n",
              "      <td>1</td>\n",
              "      <td>1</td>\n",
              "      <td>0</td>\n",
              "      <td>0</td>\n",
              "      <td>1</td>\n",
              "      <td>0</td>\n",
              "      <td>0</td>\n",
              "      <td>1</td>\n",
              "      <td>1</td>\n",
              "      <td>0</td>\n",
              "      <td>1</td>\n",
              "      <td>0</td>\n",
              "      <td>0</td>\n",
              "      <td>1</td>\n",
              "      <td>0</td>\n",
              "      <td>1</td>\n",
              "    </tr>\n",
              "  </tbody>\n",
              "</table>\n",
              "<p>5 rows × 287 columns</p>\n",
              "</div>"
            ],
            "text/plain": [
              "   id        f0        f1        f2        f3  ...  f281  f282  f283  f284  target\n",
              "0   0  0.205979  0.410993  0.176775  0.223581  ...     0     0     0     0       1\n",
              "1   1  0.181004  0.473119  0.011734  0.213657  ...     0     0     0     0       1\n",
              "2   2  0.182583  0.307431  0.325950  0.207116  ...     0     0     0     0       1\n",
              "3   3  0.180240  0.494592  0.008367  0.223580  ...     0     0     0     0       1\n",
              "4   4  0.177172  0.495513  0.014263  0.548819  ...     0     0     1     0       1\n",
              "\n",
              "[5 rows x 287 columns]"
            ]
          },
          "metadata": {},
          "execution_count": 5
        }
      ]
    },
    {
      "cell_type": "code",
      "metadata": {
        "colab": {
          "base_uri": "https://localhost:8080/"
        },
        "id": "Vw-6-QZjhoiY",
        "outputId": "e6719ee5-04f6-4bdc-cbb6-50fcaecc0d8f"
      },
      "source": [
        "train_df.shape"
      ],
      "execution_count": 6,
      "outputs": [
        {
          "output_type": "execute_result",
          "data": {
            "text/plain": [
              "(1000000, 287)"
            ]
          },
          "metadata": {},
          "execution_count": 6
        }
      ]
    },
    {
      "cell_type": "code",
      "metadata": {
        "colab": {
          "base_uri": "https://localhost:8080/"
        },
        "id": "XYlJ8VMAiLqp",
        "outputId": "bdb37671-6f93-4cfd-ac1a-94625817b5c7"
      },
      "source": [
        "train_df.info()"
      ],
      "execution_count": 7,
      "outputs": [
        {
          "output_type": "stream",
          "name": "stdout",
          "text": [
            "<class 'pandas.core.frame.DataFrame'>\n",
            "RangeIndex: 1000000 entries, 0 to 999999\n",
            "Columns: 287 entries, id to target\n",
            "dtypes: float64(240), int64(47)\n",
            "memory usage: 2.1 GB\n"
          ]
        }
      ]
    },
    {
      "cell_type": "code",
      "metadata": {
        "colab": {
          "base_uri": "https://localhost:8080/"
        },
        "id": "vB9Xyo6WineJ",
        "outputId": "1240302c-ce8f-428e-9a0a-36c3b355a5c3"
      },
      "source": [
        "all_data = train_df.drop(columns=['target','id'],axis=1)\n",
        "all_data.shape"
      ],
      "execution_count": 8,
      "outputs": [
        {
          "output_type": "execute_result",
          "data": {
            "text/plain": [
              "(1000000, 285)"
            ]
          },
          "metadata": {},
          "execution_count": 8
        }
      ]
    },
    {
      "cell_type": "code",
      "metadata": {
        "id": "V-pA2z0KjArn"
      },
      "source": [
        "all_target = train_df['target']"
      ],
      "execution_count": 9,
      "outputs": []
    },
    {
      "cell_type": "markdown",
      "metadata": {
        "id": "LIysu12LKbQf"
      },
      "source": [
        "## Check the distribution of Target values"
      ]
    },
    {
      "cell_type": "code",
      "metadata": {
        "colab": {
          "base_uri": "https://localhost:8080/"
        },
        "id": "oW5qTZBAv9ed",
        "outputId": "afd0684d-29c6-4534-f2f3-8ae8050f933b"
      },
      "source": [
        "all_target.value_counts()"
      ],
      "execution_count": 10,
      "outputs": [
        {
          "output_type": "execute_result",
          "data": {
            "text/plain": [
              "1    500485\n",
              "0    499515\n",
              "Name: target, dtype: int64"
            ]
          },
          "metadata": {},
          "execution_count": 10
        }
      ]
    },
    {
      "cell_type": "code",
      "metadata": {
        "id": "PvxKz3DwliJO"
      },
      "source": [
        "data_used = all_data[:800000]\n",
        "labels_used= all_target[:800000]"
      ],
      "execution_count": 11,
      "outputs": []
    },
    {
      "cell_type": "code",
      "metadata": {
        "id": "O7KLlSP9jNKt"
      },
      "source": [
        "\n",
        "from sklearn.model_selection import train_test_split"
      ],
      "execution_count": 12,
      "outputs": []
    },
    {
      "cell_type": "code",
      "metadata": {
        "id": "3OL5MseylELb"
      },
      "source": [
        "train_data, valid_data, train_labels, valid_labels = train_test_split(data_used,labels_used,test_size=0.1)"
      ],
      "execution_count": 13,
      "outputs": []
    },
    {
      "cell_type": "code",
      "metadata": {
        "colab": {
          "base_uri": "https://localhost:8080/"
        },
        "id": "7wIGsmEwl1dE",
        "outputId": "8be98e97-cc89-4c68-9db8-0aba131dd6eb"
      },
      "source": [
        "train_data.shape, valid_data.shape, train_labels.shape, valid_labels.shape"
      ],
      "execution_count": 14,
      "outputs": [
        {
          "output_type": "execute_result",
          "data": {
            "text/plain": [
              "((720000, 285), (80000, 285), (720000,), (80000,))"
            ]
          },
          "metadata": {},
          "execution_count": 14
        }
      ]
    },
    {
      "cell_type": "code",
      "metadata": {
        "colab": {
          "base_uri": "https://localhost:8080/"
        },
        "id": "xe3mpaecyIv9",
        "outputId": "81f8c37e-9429-4826-c04b-ba3437a048d5"
      },
      "source": [
        "from sklearn.ensemble import RandomForestClassifier\n",
        "rnd_clf = RandomForestClassifier(n_estimators =100, max_leaf_nodes=16,random_state=42, max_features=5)\n",
        "rnd_clf.fit(train_data,train_labels)"
      ],
      "execution_count": 16,
      "outputs": [
        {
          "output_type": "execute_result",
          "data": {
            "text/plain": [
              "RandomForestClassifier(bootstrap=True, ccp_alpha=0.0, class_weight=None,\n",
              "                       criterion='gini', max_depth=None, max_features=5,\n",
              "                       max_leaf_nodes=16, max_samples=None,\n",
              "                       min_impurity_decrease=0.0, min_impurity_split=None,\n",
              "                       min_samples_leaf=1, min_samples_split=2,\n",
              "                       min_weight_fraction_leaf=0.0, n_estimators=100,\n",
              "                       n_jobs=None, oob_score=False, random_state=42, verbose=0,\n",
              "                       warm_start=False)"
            ]
          },
          "metadata": {},
          "execution_count": 16
        }
      ]
    },
    {
      "cell_type": "code",
      "metadata": {
        "id": "4zFj4EBVyvwD"
      },
      "source": [
        "val_preds = rnd_clf.predict_proba(valid_data)"
      ],
      "execution_count": 17,
      "outputs": []
    },
    {
      "cell_type": "code",
      "metadata": {
        "id": "Pl2VHkeRKqPY"
      },
      "source": [
        "val_preds1 = rnd_clf.predict(valid_data)"
      ],
      "execution_count": 19,
      "outputs": []
    },
    {
      "cell_type": "code",
      "metadata": {
        "colab": {
          "base_uri": "https://localhost:8080/"
        },
        "id": "RIQWo53XOepq",
        "outputId": "eacf64ca-7634-416e-fde7-037c97f27752"
      },
      "source": [
        "from sklearn.metrics import confusion_matrix, accuracy_score,roc_auc_score\n",
        "confusion_matrix(valid_labels,val_preds1)"
      ],
      "execution_count": 20,
      "outputs": [
        {
          "output_type": "execute_result",
          "data": {
            "text/plain": [
              "array([[32169,  7861],\n",
              "       [11484, 28486]])"
            ]
          },
          "metadata": {},
          "execution_count": 20
        }
      ]
    },
    {
      "cell_type": "markdown",
      "metadata": {
        "id": "AoIvpLX6JtNH"
      },
      "source": [
        "Prediction of probabilities for ROC_AUC_Score"
      ]
    },
    {
      "cell_type": "code",
      "metadata": {
        "id": "Z93ITaWQlni4"
      },
      "source": [
        "act_preds = val_preds[:,1] "
      ],
      "execution_count": 21,
      "outputs": []
    },
    {
      "cell_type": "code",
      "metadata": {
        "colab": {
          "base_uri": "https://localhost:8080/"
        },
        "id": "RN8TKQy9y_Yo",
        "outputId": "c7576927-a7e2-44c4-dd26-b9c7d68fc90a"
      },
      "source": [
        "print(accuracy_score(valid_labels,val_preds1))\n",
        "print(roc_auc_score(valid_labels,act_preds))"
      ],
      "execution_count": 23,
      "outputs": [
        {
          "output_type": "stream",
          "name": "stdout",
          "text": [
            "0.7581875\n",
            "0.836055845281413\n"
          ]
        }
      ]
    },
    {
      "cell_type": "markdown",
      "metadata": {
        "id": "FdduzJZtLBUV"
      },
      "source": [
        "## Finding the top 10 important features"
      ]
    },
    {
      "cell_type": "code",
      "metadata": {
        "colab": {
          "base_uri": "https://localhost:8080/"
        },
        "id": "scu6jv5rlEdb",
        "outputId": "cdd40c7d-937c-4374-90b2-933d0cee5ef6"
      },
      "source": [
        "important_features_dict = {}\n",
        "for idx, val in enumerate(rnd_clf.feature_importances_):\n",
        "    important_features_dict[idx] = val\n",
        "\n",
        "important_features_list = sorted(important_features_dict,\n",
        "                                 key=important_features_dict.get,\n",
        "                                 reverse=True)\n",
        "\n",
        "print(f'10 most important features: {important_features_list[:10]}')"
      ],
      "execution_count": 25,
      "outputs": [
        {
          "output_type": "stream",
          "name": "stdout",
          "text": [
            "10 most important features: [22, 179, 69, 136, 58, 156, 214, 78, 3, 12]\n"
          ]
        }
      ]
    },
    {
      "cell_type": "markdown",
      "metadata": {
        "id": "gksqmoJmLF8q"
      },
      "source": [
        "## Function to plot top 20 important features"
      ]
    },
    {
      "cell_type": "code",
      "metadata": {
        "id": "E0mrW1M1tBW2"
      },
      "source": [
        "import seaborn as sns\n",
        "def plot_feature_importance(importance,names,model_type):\n",
        "\n",
        "    #Create arrays from feature importance and feature names\n",
        "    feature_importance = np.array(importance)\n",
        "    feature_names = np.array(names)\n",
        "\n",
        "    #Create a DataFrame using a Dictionary\n",
        "    data={'feature_names':feature_names,'feature_importance':feature_importance}\n",
        "    fi_df = pd.DataFrame(data)\n",
        "\n",
        "    #Sort the DataFrame in order decreasing feature importance\n",
        "    fi_df.sort_values(by=['feature_importance'], ascending=False,inplace=True)\n",
        "\n",
        "    #Define size of bar plot\n",
        "    plt.figure(figsize=(10,8))\n",
        "    #Plot Searborn bar chart\n",
        "    sns.barplot(x=fi_df['feature_importance'][:20], y=fi_df['feature_names'][:20])\n",
        "    #Add chart labels\n",
        "    plt.title(model_type + 'FEATURE IMPORTANCE')\n",
        "    plt.xlabel('FEATURE IMPORTANCE')\n",
        "    plt.ylabel('FEATURE NAMES')\n"
      ],
      "execution_count": 26,
      "outputs": []
    },
    {
      "cell_type": "code",
      "metadata": {
        "id": "QCEeQ6QHLStD",
        "outputId": "74f4c71a-3f74-42db-b492-31ee113f5c03",
        "colab": {
          "base_uri": "https://localhost:8080/",
          "height": 513
        }
      },
      "source": [
        "plot_feature_importance(rnd_clf.feature_importances_,all_data.columns,'RANDOM FOREST')"
      ],
      "execution_count": 27,
      "outputs": [
        {
          "output_type": "display_data",
          "data": {
            "image/png": "[encoded data removed]",
            "text/plain": [
              "<Figure size 720x576 with 1 Axes>"
            ]
          },
          "metadata": {
            "needs_background": "light"
          }
        }
      ]
    },
    {
      "cell_type": "code",
      "metadata": {
        "id": "E0gm3ZBCw5CB"
      },
      "source": [
        "imp_features = ['f22','f179','f69','f58','f214','f136','f78','f156','f3','f77','f8','f92','f12','f43','f200','f247','f211','f112','f18','f134','f19']"
      ],
      "execution_count": 28,
      "outputs": []
    },
    {
      "cell_type": "markdown",
      "metadata": {
        "id": "jJSBZ6IQL-q5"
      },
      "source": [
        "### Considering only top 20 features for our training and evaluation"
      ]
    },
    {
      "cell_type": "code",
      "metadata": {
        "id": "Kqy4lnEhmkXX"
      },
      "source": [
        "train_data_new = train_data[imp_features]\n",
        "valid_data_new = valid_data[imp_features]"
      ],
      "execution_count": 29,
      "outputs": []
    },
    {
      "cell_type": "code",
      "metadata": {
        "id": "cTLobotjmCR5"
      },
      "source": [
        "import random\n",
        "random.seed = 42"
      ],
      "execution_count": 30,
      "outputs": []
    },
    {
      "cell_type": "markdown",
      "metadata": {
        "id": "FvsFcDtTMWf-"
      },
      "source": [
        "### Try Logistic Regression Model with only important features and 0.8 million of data"
      ]
    },
    {
      "cell_type": "code",
      "metadata": {
        "colab": {
          "base_uri": "https://localhost:8080/"
        },
        "id": "pNyd9-sxORDB",
        "outputId": "34b316ce-e5da-4fe5-e2f9-295756f71241"
      },
      "source": [
        "from sklearn.linear_model import LogisticRegression\n",
        "\n",
        "lr_new = LogisticRegression(solver='saga', penalty='l1', max_iter=50, random_state=42, C=0.001)\n",
        "lr_new.fit(train_data_new,train_labels)"
      ],
      "execution_count": 32,
      "outputs": [
        {
          "output_type": "execute_result",
          "data": {
            "text/plain": [
              "LogisticRegression(C=0.001, class_weight=None, dual=False, fit_intercept=True,\n",
              "                   intercept_scaling=1, l1_ratio=None, max_iter=50,\n",
              "                   multi_class='auto', n_jobs=None, penalty='l1',\n",
              "                   random_state=42, solver='saga', tol=0.0001, verbose=0,\n",
              "                   warm_start=False)"
            ]
          },
          "metadata": {},
          "execution_count": 32
        }
      ]
    },
    {
      "cell_type": "code",
      "metadata": {
        "id": "VYH2PjdGOY57"
      },
      "source": [
        "val_preds = lr_new.predict_proba(valid_data_new)[:,1]"
      ],
      "execution_count": 34,
      "outputs": []
    },
    {
      "cell_type": "markdown",
      "metadata": {
        "id": "TN9dF6jpM6n9"
      },
      "source": [
        "### keeping LR as our base model, compute roc_auc_score"
      ]
    },
    {
      "cell_type": "code",
      "metadata": {
        "colab": {
          "base_uri": "https://localhost:8080/"
        },
        "id": "1k2Jxonpj9BL",
        "outputId": "a8367900-2a08-4b2d-ff80-3308af6b06ea"
      },
      "source": [
        "print(roc_auc_score(valid_labels,val_preds))"
      ],
      "execution_count": 35,
      "outputs": [
        {
          "output_type": "stream",
          "name": "stdout",
          "text": [
            "0.8240333916437828\n"
          ]
        }
      ]
    },
    {
      "cell_type": "markdown",
      "metadata": {
        "id": "OWRHf7C9NNnE"
      },
      "source": [
        "Predicting Random Forest Classifier ROC_AUC_Score using only important features"
      ]
    },
    {
      "cell_type": "code",
      "metadata": {
        "colab": {
          "base_uri": "https://localhost:8080/"
        },
        "id": "2Wx22BHxySBs",
        "outputId": "5fb83f2d-90e4-4bd5-c4fe-b5260404e3a8"
      },
      "source": [
        "from sklearn.ensemble import RandomForestClassifier\n",
        "rnd_clf1 = RandomForestClassifier(n_estimators =120, max_leaf_nodes=16,random_state=42, max_features=5)\n",
        "rnd_clf1.fit(train_data_new,train_labels)"
      ],
      "execution_count": 36,
      "outputs": [
        {
          "output_type": "execute_result",
          "data": {
            "text/plain": [
              "RandomForestClassifier(bootstrap=True, ccp_alpha=0.0, class_weight=None,\n",
              "                       criterion='gini', max_depth=None, max_features=5,\n",
              "                       max_leaf_nodes=16, max_samples=None,\n",
              "                       min_impurity_decrease=0.0, min_impurity_split=None,\n",
              "                       min_samples_leaf=1, min_samples_split=2,\n",
              "                       min_weight_fraction_leaf=0.0, n_estimators=120,\n",
              "                       n_jobs=None, oob_score=False, random_state=42, verbose=0,\n",
              "                       warm_start=False)"
            ]
          },
          "metadata": {},
          "execution_count": 36
        }
      ]
    },
    {
      "cell_type": "code",
      "metadata": {
        "colab": {
          "base_uri": "https://localhost:8080/"
        },
        "id": "8jkHS0Yfye51",
        "outputId": "066a12a1-7724-450a-ed1f-13b54d185daa"
      },
      "source": [
        "y_preds1 = rnd_clf1.predict_proba(valid_data_new)[:,1]\n",
        "print(roc_auc_score(valid_labels,y_preds1))"
      ],
      "execution_count": 37,
      "outputs": [
        {
          "output_type": "stream",
          "name": "stdout",
          "text": [
            "0.8281841233535694\n"
          ]
        }
      ]
    },
    {
      "cell_type": "markdown",
      "metadata": {
        "id": "FYTFQ97dzfLa"
      },
      "source": [
        "### Trying DNN using Tensorflow - consider only Top 21 important features"
      ]
    },
    {
      "cell_type": "code",
      "metadata": {
        "id": "aPJUJzqLVIEB"
      },
      "source": [
        "import tensorflow as tf\n",
        "\n",
        "from tensorflow import keras\n"
      ],
      "execution_count": 38,
      "outputs": []
    },
    {
      "cell_type": "code",
      "metadata": {
        "id": "fAArJdNYh7Tq"
      },
      "source": [
        "model = tf.keras.Sequential()\n",
        "model.add(tf.keras.layers.Dense(16,activation='selu', input_shape=(21,)))\n",
        "model.add(tf.keras.layers.Dense(32,activation='selu'))\n",
        "model.add(tf.keras.layers.Dropout(0.3))\n",
        "model.add(tf.keras.layers.Dense(32,activation='selu'))\n",
        "model.add(tf.keras.layers.Dropout(0.2))\n",
        "model.add(tf.keras.layers.Dense(1,activation='sigmoid'))\n"
      ],
      "execution_count": 48,
      "outputs": []
    },
    {
      "cell_type": "code",
      "metadata": {
        "id": "5FN2Mg5wif1P"
      },
      "source": [
        "model.compile(optimizer='adam', loss='binary_crossentropy', metrics=['accuracy'])\n"
      ],
      "execution_count": 49,
      "outputs": []
    },
    {
      "cell_type": "code",
      "metadata": {
        "colab": {
          "base_uri": "https://localhost:8080/"
        },
        "id": "JOHuGaoqiqpC",
        "outputId": "376d0934-7a05-4947-a751-935901663957"
      },
      "source": [
        "model.fit(train_data_new,train_labels, batch_size=32, epochs=5,\n",
        "          validation_data=(valid_data_new,valid_labels))\n"
      ],
      "execution_count": 50,
      "outputs": [
        {
          "output_type": "stream",
          "name": "stdout",
          "text": [
            "Epoch 1/5\n",
            "22500/22500 [==============================] - 71s 3ms/step - loss: 0.5174 - accuracy: 0.7554 - val_loss: 0.5120 - val_accuracy: 0.7528\n",
            "Epoch 2/5\n",
            "22500/22500 [==============================] - 70s 3ms/step - loss: 0.5122 - accuracy: 0.7562 - val_loss: 0.5064 - val_accuracy: 0.7575\n",
            "Epoch 3/5\n",
            "22500/22500 [==============================] - 71s 3ms/step - loss: 0.5107 - accuracy: 0.7567 - val_loss: 0.5068 - val_accuracy: 0.7574\n",
            "Epoch 4/5\n",
            "22500/22500 [==============================] - 70s 3ms/step - loss: 0.5098 - accuracy: 0.7569 - val_loss: 0.5086 - val_accuracy: 0.7569\n",
            "Epoch 5/5\n",
            "22500/22500 [==============================] - 69s 3ms/step - loss: 0.5090 - accuracy: 0.7571 - val_loss: 0.5052 - val_accuracy: 0.7582\n"
          ]
        },
        {
          "output_type": "execute_result",
          "data": {
            "text/plain": [
              "<keras.callbacks.History at 0x7f18e0245cd0>"
            ]
          },
          "metadata": {},
          "execution_count": 50
        }
      ]
    },
    {
      "cell_type": "code",
      "metadata": {
        "id": "NS-txwCzCErv",
        "outputId": "c1521106-3a8c-4b2b-904a-1a1ed61bce93",
        "colab": {
          "base_uri": "https://localhost:8080/"
        }
      },
      "source": [
        "valid_preds = tf.squeeze(model.predict(valid_data_new))\n",
        "print(roc_auc_score(valid_labels,valid_preds))"
      ],
      "execution_count": 52,
      "outputs": [
        {
          "output_type": "stream",
          "name": "stdout",
          "text": [
            "0.8316932290774413\n"
          ]
        }
      ]
    },
    {
      "cell_type": "markdown",
      "metadata": {
        "id": "PRCQ_R1kQTYu"
      },
      "source": [
        "## Trying with Gradient Boosting Decision Trees for classification"
      ]
    },
    {
      "cell_type": "markdown",
      "metadata": {
        "id": "qamXNVkXRmvW"
      },
      "source": [
        "## you can observe that GBDT is slower as it is a sequentail process unlike Random forests"
      ]
    },
    {
      "cell_type": "code",
      "metadata": {
        "id": "VkxrlwSAtpZV",
        "outputId": "d32efa63-64e7-48a3-e7c0-77e3b59c1403",
        "colab": {
          "base_uri": "https://localhost:8080/"
        }
      },
      "source": [
        "from sklearn.ensemble import GradientBoostingClassifier\n",
        "gbc = GradientBoostingClassifier(n_estimators=100,\n",
        "                                 min_samples_leaf=16,\n",
        "                                 random_state=42,\n",
        "                                 max_depth=5,\n",
        "                                 learning_rate=0.1\n",
        "                                 )\n",
        "gbc.fit(train_data_new,train_labels)"
      ],
      "execution_count": 54,
      "outputs": [
        {
          "output_type": "execute_result",
          "data": {
            "text/plain": [
              "GradientBoostingClassifier(ccp_alpha=0.0, criterion='friedman_mse', init=None,\n",
              "                           learning_rate=0.1, loss='deviance', max_depth=5,\n",
              "                           max_features=None, max_leaf_nodes=None,\n",
              "                           min_impurity_decrease=0.0, min_impurity_split=None,\n",
              "                           min_samples_leaf=16, min_samples_split=2,\n",
              "                           min_weight_fraction_leaf=0.0, n_estimators=100,\n",
              "                           n_iter_no_change=None, presort='deprecated',\n",
              "                           random_state=42, subsample=1.0, tol=0.0001,\n",
              "                           validation_fraction=0.1, verbose=0,\n",
              "                           warm_start=False)"
            ]
          },
          "metadata": {},
          "execution_count": 54
        }
      ]
    },
    {
      "cell_type": "code",
      "metadata": {
        "id": "ncvyo8LGVKSF"
      },
      "source": [
        ""
      ],
      "execution_count": null,
      "outputs": []
    },
    {
      "cell_type": "code",
      "metadata": {
        "id": "R7smZs7OjW1W",
        "outputId": "f432cc69-f5ab-4616-fd72-22d8f5836cca",
        "colab": {
          "base_uri": "https://localhost:8080/"
        }
      },
      "source": [
        "y_predictions=gbc.predict_proba(valid_data_new)[:,1]\n",
        "print(roc_auc_score(valid_labels,y_predictions))"
      ],
      "execution_count": 55,
      "outputs": [
        {
          "output_type": "stream",
          "name": "stdout",
          "text": [
            "0.8411877075430856\n"
          ]
        }
      ]
    },
    {
      "cell_type": "code",
      "metadata": {
        "id": "e5EQMiBajXuK"
      },
      "source": [
        "50,5,0.01 -> 0.8275602030555536\n",
        "50,5,0.1, 32 -> 0.8371356121328695\n",
        "50,5,1 -> 0.8304029061517143\n",
        "50,5,0.3 -> 0.8365210774918708\n",
        "50,7,0.1 -> 0.8369981705918417\n",
        "100,5,0.2 -> 0.8369681624513573\n",
        "50,9,0.1 -> 0.8360158545612544\n",
        "50,5,0.1, 16 -> 0.8371562687392817\n",
        "50, 7, 0.15,16 -> 0.8369343944899855\n",
        "100,5,0.1,16 -> 0.8376441555183308\n",
        "100,7,0.08,16-> 0.8368162266327451\n"
      ],
      "execution_count": null,
      "outputs": []
    },
    {
      "cell_type": "markdown",
      "metadata": {
        "id": "6aNY4YVyQdo_"
      },
      "source": [
        "## We can try Gri search for best Parameter values using the below code"
      ]
    },
    {
      "cell_type": "code",
      "metadata": {
        "id": "9MzTovrNXUcG"
      },
      "source": [
        "parameters = {\n",
        "    \"n_estimators\":[50,100],\n",
        "    \"max_depth\":[3,5,7],\n",
        "    \"learning_rate\":[0.01,0.1,0.3,1]\n",
        "}"
      ],
      "execution_count": 99,
      "outputs": []
    },
    {
      "cell_type": "code",
      "metadata": {
        "id": "Tq4AaIoOXaqN"
      },
      "source": [
        "from sklearn.model_selection import GridSearchCV\n",
        "cv = GridSearchCV(gbc,parameters,cv=3)\n",
        "cv.fit(train_data_new,train_labels.values.ravel())"
      ],
      "execution_count": null,
      "outputs": []
    },
    {
      "cell_type": "code",
      "metadata": {
        "id": "gHQbI_9fYDrA"
      },
      "source": [
        "def display(results):\n",
        "    print(f'Best parameters are: {results.best_params_}')\n",
        "    print(\"\\n\")\n",
        "    mean_score = results.cv_results_['mean_test_score']\n",
        "    std_score = results.cv_results_['std_test_score']\n",
        "    params = results.cv_results_['params']\n",
        "    for mean,std,params in zip(mean_score,std_score,params):\n",
        "        print(f'{round(mean,3)} + or -{round(std,3)} for the {params}')"
      ],
      "execution_count": null,
      "outputs": []
    },
    {
      "cell_type": "code",
      "metadata": {
        "id": "T4rA040fYHOp"
      },
      "source": [
        "display(cv)"
      ],
      "execution_count": null,
      "outputs": []
    },
    {
      "cell_type": "code",
      "metadata": {
        "id": "yFE5zY8DQlNr"
      },
      "source": [
        "### Read test data and take only important features for evaluation"
      ],
      "execution_count": null,
      "outputs": []
    },
    {
      "cell_type": "code",
      "metadata": {
        "id": "0rDmgu_WtVAD"
      },
      "source": [
        "test_df = pd.read_csv('test.csv')"
      ],
      "execution_count": 57,
      "outputs": []
    },
    {
      "cell_type": "code",
      "metadata": {
        "id": "ZqjoI1e9tb9q"
      },
      "source": [
        "test_df_modified = test_df[imp_features]"
      ],
      "execution_count": 58,
      "outputs": []
    },
    {
      "cell_type": "code",
      "metadata": {
        "id": "kfkJoT1iYfT5"
      },
      "source": [
        "submission_df = pd.read_csv('sample_submission.csv')"
      ],
      "execution_count": 61,
      "outputs": []
    },
    {
      "cell_type": "code",
      "metadata": {
        "id": "nDGFZXe9tOHi"
      },
      "source": [
        "y_preds_actual = gbc.predict_proba(test_df_modified)[:,1]"
      ],
      "execution_count": 63,
      "outputs": []
    },
    {
      "cell_type": "code",
      "metadata": {
        "id": "UqklAZvtBEOu"
      },
      "source": [
        "submission = pd.DataFrame({'id':submission_df['id'],'target':y_preds_actual})"
      ],
      "execution_count": 64,
      "outputs": []
    },
    {
      "cell_type": "code",
      "metadata": {
        "id": "0R258a-nBXXL",
        "outputId": "9e076e85-0328-46fd-c255-4c82b0530010",
        "colab": {
          "base_uri": "https://localhost:8080/"
        }
      },
      "source": [
        "y_preds_actual"
      ],
      "execution_count": 65,
      "outputs": [
        {
          "output_type": "execute_result",
          "data": {
            "text/plain": [
              "array([0.73092465, 0.31536385, 0.89123483, ..., 0.50691906, 0.53214389,\n",
              "       0.43690705])"
            ]
          },
          "metadata": {},
          "execution_count": 65
        }
      ]
    },
    {
      "cell_type": "code",
      "metadata": {
        "id": "ZG5hs4nnmN0T",
        "outputId": "5ee1276b-248e-4bd1-b77b-96c7a0818677",
        "colab": {
          "base_uri": "https://localhost:8080/",
          "height": 206
        }
      },
      "source": [
        "submission_df.head()"
      ],
      "execution_count": 66,
      "outputs": [
        {
          "output_type": "execute_result",
          "data": {
            "text/html": [
              "<div>\n",
              "<style scoped>\n",
              "    .dataframe tbody tr th:only-of-type {\n",
              "        vertical-align: middle;\n",
              "    }\n",
              "\n",
              "    .dataframe tbody tr th {\n",
              "        vertical-align: top;\n",
              "    }\n",
              "\n",
              "    .dataframe thead th {\n",
              "        text-align: right;\n",
              "    }\n",
              "</style>\n",
              "<table border=\"1\" class=\"dataframe\">\n",
              "  <thead>\n",
              "    <tr style=\"text-align: right;\">\n",
              "      <th></th>\n",
              "      <th>id</th>\n",
              "      <th>target</th>\n",
              "    </tr>\n",
              "  </thead>\n",
              "  <tbody>\n",
              "    <tr>\n",
              "      <th>0</th>\n",
              "      <td>1000000</td>\n",
              "      <td>0.5</td>\n",
              "    </tr>\n",
              "    <tr>\n",
              "      <th>1</th>\n",
              "      <td>1000001</td>\n",
              "      <td>0.5</td>\n",
              "    </tr>\n",
              "    <tr>\n",
              "      <th>2</th>\n",
              "      <td>1000002</td>\n",
              "      <td>0.5</td>\n",
              "    </tr>\n",
              "    <tr>\n",
              "      <th>3</th>\n",
              "      <td>1000003</td>\n",
              "      <td>0.5</td>\n",
              "    </tr>\n",
              "    <tr>\n",
              "      <th>4</th>\n",
              "      <td>1000004</td>\n",
              "      <td>0.5</td>\n",
              "    </tr>\n",
              "  </tbody>\n",
              "</table>\n",
              "</div>"
            ],
            "text/plain": [
              "        id  target\n",
              "0  1000000     0.5\n",
              "1  1000001     0.5\n",
              "2  1000002     0.5\n",
              "3  1000003     0.5\n",
              "4  1000004     0.5"
            ]
          },
          "metadata": {},
          "execution_count": 66
        }
      ]
    },
    {
      "cell_type": "code",
      "metadata": {
        "id": "wjkj0xWLmEb2"
      },
      "source": [
        "submission = pd.DataFrame({'id':submission_df['id'],'target':y_preds_actual})"
      ],
      "execution_count": 67,
      "outputs": []
    },
    {
      "cell_type": "code",
      "metadata": {
        "id": "Eyds6b5strEy",
        "outputId": "12227a25-c778-41fe-af33-0de79120af8c",
        "colab": {
          "base_uri": "https://localhost:8080/",
          "height": 424
        }
      },
      "source": [
        "submission"
      ],
      "execution_count": 68,
      "outputs": [
        {
          "output_type": "execute_result",
          "data": {
            "text/html": [
              "<div>\n",
              "<style scoped>\n",
              "    .dataframe tbody tr th:only-of-type {\n",
              "        vertical-align: middle;\n",
              "    }\n",
              "\n",
              "    .dataframe tbody tr th {\n",
              "        vertical-align: top;\n",
              "    }\n",
              "\n",
              "    .dataframe thead th {\n",
              "        text-align: right;\n",
              "    }\n",
              "</style>\n",
              "<table border=\"1\" class=\"dataframe\">\n",
              "  <thead>\n",
              "    <tr style=\"text-align: right;\">\n",
              "      <th></th>\n",
              "      <th>id</th>\n",
              "      <th>target</th>\n",
              "    </tr>\n",
              "  </thead>\n",
              "  <tbody>\n",
              "    <tr>\n",
              "      <th>0</th>\n",
              "      <td>1000000</td>\n",
              "      <td>0.730925</td>\n",
              "    </tr>\n",
              "    <tr>\n",
              "      <th>1</th>\n",
              "      <td>1000001</td>\n",
              "      <td>0.315364</td>\n",
              "    </tr>\n",
              "    <tr>\n",
              "      <th>2</th>\n",
              "      <td>1000002</td>\n",
              "      <td>0.891235</td>\n",
              "    </tr>\n",
              "    <tr>\n",
              "      <th>3</th>\n",
              "      <td>1000003</td>\n",
              "      <td>0.832761</td>\n",
              "    </tr>\n",
              "    <tr>\n",
              "      <th>4</th>\n",
              "      <td>1000004</td>\n",
              "      <td>0.223503</td>\n",
              "    </tr>\n",
              "    <tr>\n",
              "      <th>...</th>\n",
              "      <td>...</td>\n",
              "      <td>...</td>\n",
              "    </tr>\n",
              "    <tr>\n",
              "      <th>499995</th>\n",
              "      <td>1499995</td>\n",
              "      <td>0.965956</td>\n",
              "    </tr>\n",
              "    <tr>\n",
              "      <th>499996</th>\n",
              "      <td>1499996</td>\n",
              "      <td>0.633360</td>\n",
              "    </tr>\n",
              "    <tr>\n",
              "      <th>499997</th>\n",
              "      <td>1499997</td>\n",
              "      <td>0.506919</td>\n",
              "    </tr>\n",
              "    <tr>\n",
              "      <th>499998</th>\n",
              "      <td>1499998</td>\n",
              "      <td>0.532144</td>\n",
              "    </tr>\n",
              "    <tr>\n",
              "      <th>499999</th>\n",
              "      <td>1499999</td>\n",
              "      <td>0.436907</td>\n",
              "    </tr>\n",
              "  </tbody>\n",
              "</table>\n",
              "<p>500000 rows × 2 columns</p>\n",
              "</div>"
            ],
            "text/plain": [
              "             id    target\n",
              "0       1000000  0.730925\n",
              "1       1000001  0.315364\n",
              "2       1000002  0.891235\n",
              "3       1000003  0.832761\n",
              "4       1000004  0.223503\n",
              "...         ...       ...\n",
              "499995  1499995  0.965956\n",
              "499996  1499996  0.633360\n",
              "499997  1499997  0.506919\n",
              "499998  1499998  0.532144\n",
              "499999  1499999  0.436907\n",
              "\n",
              "[500000 rows x 2 columns]"
            ]
          },
          "metadata": {},
          "execution_count": 68
        }
      ]
    },
    {
      "cell_type": "code",
      "metadata": {
        "id": "PZjWkNbiuD6k"
      },
      "source": [
        "submission.to_csv('New_submission_18_oct.csv',index=False)"
      ],
      "execution_count": 69,
      "outputs": []
    }
  ]
}